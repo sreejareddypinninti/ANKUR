{
 "cells": [
  {
   "cell_type": "code",
   "execution_count": 1,
   "id": "92951226",
   "metadata": {},
   "outputs": [
    {
     "name": "stdout",
     "output_type": "stream",
     "text": [
      "<class 'pandas.core.frame.DataFrame'>\n",
      "RangeIndex: 1136 entries, 0 to 1135\n",
      "Data columns (total 18 columns):\n",
      " #   Column                   Non-Null Count  Dtype  \n",
      "---  ------                   --------------  -----  \n",
      " 0   S.No                     1136 non-null   int64  \n",
      " 1   District                 1136 non-null   object \n",
      " 2   Year                     1136 non-null   object \n",
      " 3   Season                   1136 non-null   object \n",
      " 4   Crop                     1136 non-null   object \n",
      " 5   Rainfall(mm)             1136 non-null   float64\n",
      " 6   Minimum Temparature(C)   872 non-null    float64\n",
      " 7   Maximum Temperature (C)  872 non-null    float64\n",
      " 8   Ph                       1136 non-null   float64\n",
      " 9   N(Kg/Hectar)             1136 non-null   float64\n",
      " 10  P(Kg/Hectar)             1136 non-null   float64\n",
      " 11  K(Kg/Hectar)             1136 non-null   float64\n",
      " 12  Zn(ppm)                  1136 non-null   float64\n",
      " 13  Fe(ppm)                  1136 non-null   float64\n",
      " 14  Cu(ppm)                  1136 non-null   float64\n",
      " 15  Mn(ppm)                  1136 non-null   float64\n",
      " 16  Irrigation(MBGL)         994 non-null    float64\n",
      " 17  Yield (Bales/Hectare)    1120 non-null   float64\n",
      "dtypes: float64(13), int64(1), object(4)\n",
      "memory usage: 159.9+ KB\n"
     ]
    }
   ],
   "source": [
    "import pandas as pd\n",
    "df=pd.read_excel(\"FINAL Dataset.xlsx\")\n",
    "\n",
    "df.info()"
   ]
  },
  {
   "cell_type": "code",
   "execution_count": 2,
   "id": "0a86703c",
   "metadata": {},
   "outputs": [
    {
     "data": {
      "text/plain": [
       "S.No                         0\n",
       "District                     0\n",
       "Year                         0\n",
       "Season                       0\n",
       "Crop                         0\n",
       "Rainfall(mm)                 0\n",
       "Minimum Temparature(C)     264\n",
       "Maximum Temperature (C)    264\n",
       "Ph                           0\n",
       "N(Kg/Hectar)                 0\n",
       "P(Kg/Hectar)                 0\n",
       "K(Kg/Hectar)                 0\n",
       "Zn(ppm)                      0\n",
       "Fe(ppm)                      0\n",
       "Cu(ppm)                      0\n",
       "Mn(ppm)                      0\n",
       "Irrigation(MBGL)           142\n",
       "Yield (Bales/Hectare)       16\n",
       "dtype: int64"
      ]
     },
     "execution_count": 2,
     "metadata": {},
     "output_type": "execute_result"
    }
   ],
   "source": [
    "df.isnull().sum()"
   ]
  },
  {
   "cell_type": "code",
   "execution_count": 3,
   "id": "94f39d71",
   "metadata": {},
   "outputs": [
    {
     "data": {
      "text/plain": [
       "array([[1, 'Adilabad', '2014 - 2015', ..., 0.58, 12.88, nan],\n",
       "       [2, 'Adilabad', '2015 - 2016', ..., 0.58, 12.88, nan],\n",
       "       [3, 'Adilabad', '2016 - 2017', ..., 0.58, 12.88, 14.7],\n",
       "       ...,\n",
       "       [1134, 'Yadadri', '2017 - 2018', ..., 1.6, 7.2, 9.58],\n",
       "       [1135, 'Yadadri', '2018 - 2019', ..., 1.6, 7.2, 13.64],\n",
       "       [1136, 'Yadadri', '2019 - 2020', ..., 1.6, 7.2, 9.6]], dtype=object)"
      ]
     },
     "execution_count": 3,
     "metadata": {},
     "output_type": "execute_result"
    }
   ],
   "source": [
    "x=df.drop('Yield (Bales/Hectare)',axis=1).values\n",
    "x"
   ]
  },
  {
   "cell_type": "code",
   "execution_count": 4,
   "id": "1ba44728",
   "metadata": {},
   "outputs": [],
   "source": [
    "df['Maximum Temperature (C)']=df.groupby(['District', 'Season'])[['Maximum Temperature (C)']].transform(lambda x: x.fillna(x.mean()))\n",
    "df['Minimum Temparature(C)']=df.groupby(['District', 'Season'])[['Minimum Temparature(C)']].transform(lambda x: x.fillna(x.mean()))\n"
   ]
  },
  {
   "cell_type": "code",
   "execution_count": 5,
   "id": "fa1ef3dd",
   "metadata": {},
   "outputs": [],
   "source": [
    "df['Irrigation(MBGL)']=df.groupby(['District'])[['Irrigation(MBGL)']].transform(lambda x: x.fillna(x.mean()))"
   ]
  },
  {
   "cell_type": "code",
   "execution_count": 6,
   "id": "4ef3503c",
   "metadata": {},
   "outputs": [
    {
     "data": {
      "text/plain": [
       "S.No                        0\n",
       "District                    0\n",
       "Year                        0\n",
       "Season                      0\n",
       "Crop                        0\n",
       "Rainfall(mm)                0\n",
       "Minimum Temparature(C)      0\n",
       "Maximum Temperature (C)     0\n",
       "Ph                          0\n",
       "N(Kg/Hectar)                0\n",
       "P(Kg/Hectar)                0\n",
       "K(Kg/Hectar)                0\n",
       "Zn(ppm)                     0\n",
       "Fe(ppm)                     0\n",
       "Cu(ppm)                     0\n",
       "Mn(ppm)                     0\n",
       "Irrigation(MBGL)            0\n",
       "Yield (Bales/Hectare)      16\n",
       "dtype: int64"
      ]
     },
     "execution_count": 6,
     "metadata": {},
     "output_type": "execute_result"
    }
   ],
   "source": [
    "df.isnull().sum()"
   ]
  },
  {
   "cell_type": "code",
   "execution_count": null,
   "id": "62a533bb",
   "metadata": {},
   "outputs": [],
   "source": [
    "df['Yield (Bales/Hectare)']=df.groupby(['District'])[['Yield (Bales/Hectare)']].transform(lambda x: x.fillna(x.mean()))"
   ]
  },
  {
   "cell_type": "code",
   "execution_count": null,
   "id": "72466de4",
   "metadata": {},
   "outputs": [],
   "source": [
    "df.isnull().sum()"
   ]
  },
  {
   "cell_type": "code",
   "execution_count": null,
   "id": "d17423b8",
   "metadata": {},
   "outputs": [],
   "source": [
    "o=\"C:\\\\Users\\\\SREEJA REDDY\\\\Downloads\\\\projectschool\\\\FINALISED Dataset.xlsx\"\n",
    "df.to_excel(o,index=False)"
   ]
  },
  {
   "cell_type": "code",
   "execution_count": null,
   "id": "116a6fb3",
   "metadata": {},
   "outputs": [],
   "source": [
    "import pandas as pd\n",
    "df=pd.read_excel(\"C:\\\\Users\\\\SREEJA REDDY\\\\Downloads\\\\projectschool\\\\FINALISED Dataset.xlsx\")\n",
    "df.drop(['Year','S.No'], axis=1, inplace=True)\n",
    "df"
   ]
  },
  {
   "cell_type": "code",
   "execution_count": null,
   "id": "4752b2ac",
   "metadata": {},
   "outputs": [],
   "source": [
    "df.describe()"
   ]
  },
  {
   "cell_type": "code",
   "execution_count": null,
   "id": "52c51bee",
   "metadata": {},
   "outputs": [],
   "source": [
    "df.info()"
   ]
  },
  {
   "cell_type": "code",
   "execution_count": null,
   "id": "50d5310d",
   "metadata": {},
   "outputs": [],
   "source": [
    "df"
   ]
  },
  {
   "cell_type": "code",
   "execution_count": null,
   "id": "30c4af0e",
   "metadata": {},
   "outputs": [],
   "source": [
    "\"\"\"from sklearn.impute import SimpleImputer\n",
    "import statsmodels.api as sm\n",
    "\n",
    "\n",
    "# One-hot encode the 'District' column\n",
    "# One-hot encode the 'District' column\n",
    "df_encoded = pd.get_dummies(df.drop(['Year'], axis=1), columns=['District',\"Season\",\"Crop\"])\n",
    "\n",
    "\n",
    "# Impute missing values with column means\n",
    "imputer = SimpleImputer()\n",
    "df_imputed = pd.DataFrame(imputer.fit_transform(df_encoded), columns=df_encoded.columns)\n",
    "# df_imputed = df_imputed.drop('Year', axis=1)\n",
    "\n",
    "# Define the predictor variables (X) and the target variable (y)\n",
    "X = df_imputed.drop(['Yield (Bales/Hectare)'], axis=1)\n",
    "y = df_imputed['Yield (Bales/Hectare)']\n",
    "\n",
    "# Add a constant term to the predictor variables for the intercept\n",
    "X = sm.add_constant(X)\n",
    "\n",
    "# Fit the multiple linear regression model\n",
    "model = sm.OLS(y, X).fit()\n",
    "\n",
    "# Print the model summary\n",
    "print(model.summary())\n",
    "import pandas as pd\n",
    "from sklearn.impute import SimpleImputer\n",
    "import statsmodels.api as sm\n",
    "\n",
    "# One-hot encode the 'District', 'Season', and 'Crop' columns\n",
    "df_encoded = pd.get_dummies(df.drop(['Year'], axis=1), columns=['District', 'Season', 'Crop'])\n",
    "X = df_imputed.drop(['Yield (Bales/Hectare)'], axis=1)\n",
    "y = df_imputed['Yield (Bales/Hectare)']\n",
    "\n",
    "# Add a constant term to the predictor variables for the intercept\n",
    "X = sm.add_constant(X)\n",
    "\n",
    "# Fit the multiple linear regression model\n",
    "model = sm.OLS(y, X).fit()\n",
    "\n",
    "# Print the model summary\n",
    "print(model.summary())\"\"\"\n",
    "import pandas as pd\n",
    "df=pd.get_dummies(df)\n"
   ]
  },
  {
   "cell_type": "code",
   "execution_count": null,
   "id": "e85a2d78",
   "metadata": {},
   "outputs": [],
   "source": [
    "df.head()"
   ]
  },
  {
   "cell_type": "code",
   "execution_count": null,
   "id": "cdb4b1a3",
   "metadata": {},
   "outputs": [],
   "source": [
    "df.replace(to_replace=True,value=1,inplace=True)\n",
    "df.replace(to_replace=False,value=0,inplace=True)\n",
    "df"
   ]
  },
  {
   "cell_type": "code",
   "execution_count": null,
   "id": "f6599c5b",
   "metadata": {},
   "outputs": [],
   "source": [
    "import pandas as pd\n",
    "import numpy as np\n",
    "import matplotlib.pyplot as plt"
   ]
  },
  {
   "cell_type": "code",
   "execution_count": null,
   "id": "aa0960a7",
   "metadata": {},
   "outputs": [],
   "source": [
    "X=df.drop(\"Yield (Bales/Hectare)\",axis=1)\n",
    "y=df[\"Yield (Bales/Hectare)\"]\n"
   ]
  },
  {
   "cell_type": "code",
   "execution_count": null,
   "id": "549624b8",
   "metadata": {},
   "outputs": [],
   "source": [
    "from sklearn.model_selection import train_test_split"
   ]
  },
  {
   "cell_type": "code",
   "execution_count": null,
   "id": "107bcd4c",
   "metadata": {},
   "outputs": [],
   "source": [
    "x_train, x_test, y_train, y_test = train_test_split(X, y,test_size=0.2,random_state=19)"
   ]
  },
  {
   "cell_type": "code",
   "execution_count": null,
   "id": "e26702f2",
   "metadata": {},
   "outputs": [],
   "source": [
    "from sklearn.ensemble import RandomForestRegressor\n",
    "rf_model = RandomForestRegressor()\n",
    "rf_model.fit(x_train, y_train)"
   ]
  },
  {
   "cell_type": "code",
   "execution_count": null,
   "id": "b7b5c863",
   "metadata": {},
   "outputs": [],
   "source": [
    "p=rf_model.predict(x_test)"
   ]
  },
  {
   "cell_type": "code",
   "execution_count": null,
   "id": "e3b1501b",
   "metadata": {},
   "outputs": [],
   "source": [
    "from sklearn.metrics import r2_score\n",
    "r2_score(y_test,p)"
   ]
  },
  {
   "cell_type": "code",
   "execution_count": null,
   "id": "fe874016",
   "metadata": {},
   "outputs": [],
   "source": [
    "from sklearn.ensemble import BaggingRegressor\n",
    "bg=BaggingRegressor(random_state=20)\n",
    "bg.fit(x_train,y_train)"
   ]
  },
  {
   "cell_type": "code",
   "execution_count": null,
   "id": "1e5bb70a",
   "metadata": {},
   "outputs": [],
   "source": [
    "y_pred=bg.predict(x_test)\n",
    "print(\"r2_score\",r2_score(y_test,y_pred))\n"
   ]
  },
  {
   "cell_type": "code",
   "execution_count": null,
   "id": "c7a69cac",
   "metadata": {},
   "outputs": [],
   "source": [
    "from sklearn.ensemble import ExtraTreesRegressor\n",
    "model = ExtraTreesRegressor(n_estimators=100,random_state=19)\n"
   ]
  },
  {
   "cell_type": "code",
   "execution_count": null,
   "id": "1a6c86cf",
   "metadata": {},
   "outputs": [],
   "source": [
    "model.fit(x_train,y_train)\n",
    "# Make predictions on the test set\n",
    "y_pred = model.predict(x_test)\n",
    "\n",
    "# Evaluate the model\n",
    "r2 = r2_score(y_test, y_pred)\n",
    "print('R2 Score:',r2)"
   ]
  },
  {
   "cell_type": "code",
   "execution_count": null,
   "id": "8bb4e4d3",
   "metadata": {},
   "outputs": [],
   "source": [
    "from sklearn.linear_model import LinearRegression\n",
    "model = LinearRegression()\n",
    "model.fit(x_train,y_train)"
   ]
  },
  {
   "cell_type": "code",
   "execution_count": null,
   "id": "0103d2ae",
   "metadata": {},
   "outputs": [],
   "source": [
    "y_pred=model.predict(x_test)\n",
    "r2=r2_score(y_test,y_pred)\n",
    "print(r2)"
   ]
  },
  {
   "cell_type": "code",
   "execution_count": null,
   "id": "41f17d61",
   "metadata": {},
   "outputs": [],
   "source": [
    "'''from sklearn.ensemble import ExtraTreesRegressor\n",
    "from sklearn.metrics import r2_score\n",
    "from sklearn.model_selection import train_test_split\n",
    "import pandas as pd\n",
    "\n",
    "# Load the data\n",
    "data=df\n",
    "x=data.drop('Yield (Bales/Hectare)',axis=1).values\n",
    "x\n",
    "y=data['Yield (Bales/Hectare)'].values\n",
    "y\n",
    "# Select relevant features and target variable\n",
    "features = x\n",
    "target = y\n",
    "\n",
    "# Split data into train and test sets\n",
    "X_train, X_test, y_train, y_test = train_test_split(features, target, test_size=0.2, random_state=42)\n",
    "\n",
    "# Create ExtraTreesRegressor model\n",
    "model = ExtraTreesRegressor(n_estimators=100, random_state=42)\n",
    "\n",
    "# Fit the model\n",
    "model.fit(X_train, y_train)\n",
    "\n",
    "# Make predictions on the test set\n",
    "y_pred = model.predict(X_test)\n",
    "\n",
    "# Evaluate the model\n",
    "r2 = r2_score(y_test, y_pred)\n",
    "print('R2 Score:', r2)'''"
   ]
  },
  {
   "cell_type": "code",
   "execution_count": null,
   "id": "89a8f7f3",
   "metadata": {},
   "outputs": [],
   "source": [
    "p=\"C:\\\\Users\\\\SREEJA REDDY\\\\Downloads\\\\projectschool\\\\FINALISED2 Dataset.xlsx\"\n",
    "df.to_excel(p)"
   ]
  },
  {
   "cell_type": "code",
   "execution_count": null,
   "id": "031881d0",
   "metadata": {
    "scrolled": true
   },
   "outputs": [],
   "source": [
    "df"
   ]
  },
  {
   "cell_type": "code",
   "execution_count": null,
   "id": "333fbd5e",
   "metadata": {},
   "outputs": [],
   "source": [
    "import pickle\n",
    "pickle.dump(rf_model,open(\"model.pkl\",\"wb\"))"
   ]
  },
  {
   "cell_type": "code",
   "execution_count": null,
   "id": "994a4afd",
   "metadata": {
    "scrolled": true
   },
   "outputs": [],
   "source": [
    "df.columns"
   ]
  },
  {
   "cell_type": "code",
   "execution_count": null,
   "id": "04e3a724",
   "metadata": {},
   "outputs": [],
   "source": [
    "len(df.columns)"
   ]
  },
  {
   "cell_type": "code",
   "execution_count": null,
   "id": "625bfc11",
   "metadata": {},
   "outputs": [],
   "source": []
  },
  {
   "cell_type": "code",
   "execution_count": null,
   "id": "9b6218aa",
   "metadata": {},
   "outputs": [],
   "source": []
  }
 ],
 "metadata": {
  "kernelspec": {
   "display_name": "Python 3 (ipykernel)",
   "language": "python",
   "name": "python3"
  },
  "language_info": {
   "codemirror_mode": {
    "name": "ipython",
    "version": 3
   },
   "file_extension": ".py",
   "mimetype": "text/x-python",
   "name": "python",
   "nbconvert_exporter": "python",
   "pygments_lexer": "ipython3",
   "version": "3.11.3"
  }
 },
 "nbformat": 4,
 "nbformat_minor": 5
}
