{
 "cells": [
  {
   "cell_type": "code",
   "execution_count": null,
   "id": "62713a82",
   "metadata": {},
   "outputs": [
    {
     "name": "stdout",
     "output_type": "stream",
     "text": [
      " * Serving Flask app 'name'\n",
      " * Debug mode: off\n"
     ]
    },
    {
     "name": "stderr",
     "output_type": "stream",
     "text": [
      "WARNING: This is a development server. Do not use it in a production deployment. Use a production WSGI server instead.\n",
      " * Running on all addresses (0.0.0.0)\n",
      " * Running on http://127.0.0.1:5000\n",
      " * Running on http://192.168.100.117:5000\n",
      "Press CTRL+C to quit\n",
      "127.0.0.1 - - [06/Mar/2024 16:41:31] \"GET / HTTP/1.1\" 200 -\n",
      "127.0.0.1 - - [06/Mar/2024 16:41:31] \"GET /static/style.css HTTP/1.1\" 200 -\n",
      "127.0.0.1 - - [06/Mar/2024 16:41:32] \"GET /static/namasthe.pdf HTTP/1.1\" 200 -\n",
      "127.0.0.1 - - [06/Mar/2024 16:41:32] \"GET /static/Ankur.png HTTP/1.1\" 200 -\n",
      "127.0.0.1 - - [06/Mar/2024 16:41:32] \"GET /favicon.ico HTTP/1.1\" 404 -\n"
     ]
    }
   ],
   "source": [
    "from flask import Flask, request, url_for, redirect, render_template\n",
    "import pickle\n",
    "import numpy as np\n",
    "app=Flask(\"name\")\n",
    "m=pickle.load(open(\"model.pkl\",\"rb\"))\n",
    "\n",
    "@app.route(\"/\")\n",
    "def home():\n",
    "    return render_template(\"index.html\")\n",
    "@app.route(\"/predict\",methods=[\"POST\",\"GET\"])\n",
    "def predict():\n",
    "    d=request.form\n",
    "    print(d)\n",
    "    districts=['District_Adilabad', 'District_Bhadradri Kothagudem','District_Jagtial', 'District_Jangoan', 'District_Jayashankar Bhoopalpally','District_Jogulamba Gadwal', 'District_Kamareddy', 'District_Karimnagar','District_Khammam', 'District_Komaram bheem asifabad','District_Mahabubabad', 'District_Mahabubnagar', 'District_Mancherial','District_Medak', 'District_Medchal-Malkajgiri', 'District_Mulug','District_Nagarkurnool', 'District_Nalgonda', 'District_Narayanpet','District_Nirmal', 'District_Nizamabad', 'District_Peddapalli','District_Rajanna Sircilla', 'District_Rangareddy', 'District_Sangareddy','District_Siddipet', 'District_Suryapet', 'District_Vikarabad','District_Wanaparthy', 'District_Warangal', 'District_Hanumakonda','District_Yadadri Bhuvanagiri']\n",
    "    dis=[0]*32\n",
    "    print(dis)\n",
    "    dis[districts.index(d[\"district\"])]=1\n",
    "    print(dis)\n",
    "    season=[0,0]\n",
    "    if(d[\"season\"]==\"Season_Kharif\"):\n",
    "        season[0]=1\n",
    "    else:\n",
    "        season[1]=1\n",
    "    print(dis,season)\n",
    "    crops=['Crop_Groundnut', 'Crop_Maize','Crop_Moong(Green Gram)', 'Crop_Rice', 'Crop_cotton(lint)']\n",
    "    crop=[0]*5\n",
    "    #crop[crops.index(d['crop'])]=1\n",
    "    for i in range(len(crops)):\n",
    "        if crops[i][5:]==d[\"crop\"]:\n",
    "            crop[i]=1\n",
    "    l=list(d.values())\n",
    "    r=l[3:]\n",
    "    print(dis,season,crop)\n",
    "    l1=r+dis+season+crop\n",
    "    a=np.array([l1])\n",
    "    a = np.array(a, dtype=float)\n",
    "    print(a)\n",
    "    output = m.predict(a)\n",
    "\n",
    "    output=round(output[0])\n",
    "    return render_template(\"index.html\",out=output)\n",
    "\n",
    "app.run(host=\"0.0.0.0\", port=5000)"
   ]
  },
  {
   "cell_type": "code",
   "execution_count": null,
   "id": "aa4f1b44",
   "metadata": {},
   "outputs": [],
   "source": [
    "\"\"\"from flask import Flask, request, render_template\n",
    "import pickle\n",
    "import numpy as np\n",
    "\n",
    "app = Flask(__name__)\n",
    "m = pickle.load(open(\"model.pkl\", \"rb\"))\n",
    "\n",
    "@app.route(\"/\")\n",
    "def home():\n",
    "    return render_template(\"index.html\")\n",
    "\n",
    "@app.route(\"/predict\", methods=[\"POST\"])\n",
    "def predict():\n",
    "    d = request.form\n",
    "    districts = ['District_Adilabad', 'District_Bhadradri Kothagudem', 'District_Jagtial', 'District_Jangoan',\n",
    "                 'District_Jayashankar Bhoopalpally', 'District_Jogulamba Gadwal', 'District_Kamareddy',\n",
    "                 'District_Karimnagar', 'District_Khammam', 'District_Komaram bheem asifabad', 'District_Mahabubabad',\n",
    "                 'District_Mahabubnagar', 'District_Mancherial', 'District_Medak', 'District_Medchal-Malkajgiri',\n",
    "                 'District_Mulug', 'District_Nagarkurnool', 'District_Nalgonda', 'District_Narayanpet',\n",
    "                 'District_Nirmal', 'District_Nizamabad', 'District_Peddapalli', 'District_Rajanna Sircilla',\n",
    "                 'District_Rangareddy', 'District_Sangareddy', 'District_Siddipet', 'District_Suryapet',\n",
    "                 'District_Vikarabad', 'District_Wanaparthy', 'District_Warangal', 'District_Hanumakonda',\n",
    "                 'District_Yadadri Bhuvanagiri']\n",
    "    dis = [0] * 32\n",
    "    dis[districts.index(d[\"district\"])] = 1\n",
    "    season = [0, 0]\n",
    "    if d[\"season\"] == \"Season_Kharif\":\n",
    "        season[0] = 1\n",
    "    else:\n",
    "        season[1] = 1\n",
    "    crops = ['Crop_Groundnut', 'Crop_Maize', 'Crop_Moong(Green Gram)', 'Crop_Rice', 'Crop_cotton(lint)']\n",
    "    crop = [0] * 5\n",
    "    for i in range(len(crops)):\n",
    "        if crops[i] == d[\"crop\"]:\n",
    "            crop[i] = 1\n",
    "    l = list(d.values())\n",
    "    r = l[3:15]\n",
    "    l1 = r + dis + season + crop\n",
    "    a = np.array([l1], dtype=float)\n",
    "    out = m.predict(a)\n",
    "    out = round(out[0] * 68.79655917165852, 2)\n",
    "    return render_template(\"index.html\", out=out)\n",
    "\n",
    "if __name__ == \"__main__\":\n",
    "    app.run(host=\"0.0.0.0\", port=5000)\n",
    "\"\"\""
   ]
  }
 ],
 "metadata": {
  "kernelspec": {
   "display_name": "Python 3 (ipykernel)",
   "language": "python",
   "name": "python3"
  },
  "language_info": {
   "codemirror_mode": {
    "name": "ipython",
    "version": 3
   },
   "file_extension": ".py",
   "mimetype": "text/x-python",
   "name": "python",
   "nbconvert_exporter": "python",
   "pygments_lexer": "ipython3",
   "version": "3.11.3"
  }
 },
 "nbformat": 4,
 "nbformat_minor": 5
}
